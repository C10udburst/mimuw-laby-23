{
 "cells": [
  {
   "cell_type": "markdown",
   "metadata": {},
   "source": [
    "2. iterator (a,b) -> iterator (a,b,a**b) za pomocą funkcji z modułów itertools i operator;\n",
    "3. dekorator służacy do wypisywania parametrów wywołania funkcji i jej wyniku;\n",
    "4. konwersja iterator -> drzewo i obejście drzewa by stworzyć iterator."
   ]
  },
  {
   "cell_type": "code",
   "execution_count": 7,
   "metadata": {},
   "outputs": [],
   "source": [
    "from itertools import starmap\n",
    "from operator import add\n",
    "from typing import Iterator"
   ]
  },
  {
   "cell_type": "code",
   "execution_count": 4,
   "metadata": {},
   "outputs": [],
   "source": [
    "class Singleton(list):\n",
    "    def __init__(self, value):\n",
    "        self.append(value)"
   ]
  },
  {
   "cell_type": "code",
   "execution_count": 9,
   "metadata": {},
   "outputs": [],
   "source": [
    "# iterator (a,b) -> iterator (a,b,a**b) za pomocą funkcji z modułów itertools i operator;\n",
    "\n",
    "def transform(pair: Iterator[tuple]) -> Iterator[tuple]:\n",
    "    return map(tuple, starmap(add, zip(map(list, pair),map(Singleton, starmap(pow, pair)))))"
   ]
  },
  {
   "cell_type": "code",
   "execution_count": 10,
   "metadata": {},
   "outputs": [
    {
     "data": {
      "text/plain": [
       "[(1, 1, 4), (3, 3, 256), (5, 5, 46656), (7, 7, 16777216), (9, 9, 10000000000)]"
      ]
     },
     "execution_count": 10,
     "metadata": {},
     "output_type": "execute_result"
    }
   ],
   "source": [
    "list(transform(zip(range(1, 11), range(1, 11))))"
   ]
  },
  {
   "cell_type": "code",
   "execution_count": 17,
   "metadata": {},
   "outputs": [],
   "source": [
    "# dekorator służacy do wypisywania parametrów wywołania funkcji i jej wyniku;\n",
    "\n",
    "def decorator(func):\n",
    "    def wrapper(*args, **kwargs):\n",
    "        print(\"Function:\", func.__name__, end=\", \")\n",
    "        print(\"arguments:\", end=\" \")\n",
    "        for arg in args:\n",
    "            print(arg, end=\", \")\n",
    "        for key, value in kwargs.items():\n",
    "            print(key, \"=\", value, end=\", \")\n",
    "        result = func(*args, **kwargs)\n",
    "        print(\"result:\", result)\n",
    "        return result\n",
    "    return wrapper"
   ]
  },
  {
   "cell_type": "code",
   "execution_count": 18,
   "metadata": {},
   "outputs": [
    {
     "name": "stdout",
     "output_type": "stream",
     "text": [
      "Function: test, arguments: 1, 2, c = 3, result: 6\n"
     ]
    },
    {
     "data": {
      "text/plain": [
       "6"
      ]
     },
     "execution_count": 18,
     "metadata": {},
     "output_type": "execute_result"
    }
   ],
   "source": [
    "@decorator\n",
    "def test(a, b, c=1):\n",
    "    return a + b + c\n",
    "\n",
    "test(1, 2, c=3)"
   ]
  },
  {
   "cell_type": "code",
   "execution_count": 1,
   "metadata": {},
   "outputs": [],
   "source": [
    "def obejdz(tree, preorder=False, inorder=False, postorder=False):\n",
    "    if preorder + inorder + postorder != 1:\n",
    "        raise ValueError(\"Exactly one of preorder, inorder and postorder must be True\")\n",
    "    if tree is None:\n",
    "        return\n",
    "    if preorder:\n",
    "        yield tree[1]\n",
    "    yield from obejdz(tree[0], preorder, inorder, postorder)\n",
    "    if inorder:\n",
    "        yield tree[1]\n",
    "    yield from obejdz(tree[2], preorder, inorder, postorder)\n",
    "    if postorder:\n",
    "        yield tree[1]"
   ]
  },
  {
   "cell_type": "code",
   "execution_count": 5,
   "metadata": {},
   "outputs": [
    {
     "data": {
      "text/plain": [
       "['a', 'a', 'l']"
      ]
     },
     "execution_count": 5,
     "metadata": {},
     "output_type": "execute_result"
    }
   ],
   "source": [
    "list(obejdz(((None,'a',None),'l',(None,'a',None)), postorder=True))"
   ]
  },
  {
   "cell_type": "code",
   "execution_count": 20,
   "metadata": {},
   "outputs": [],
   "source": [
    "# konwersja iterator -> drzewo i obejście drzewa by stworzyć iterator.\n",
    "\n",
    "def zrob_drzewo(it: Iterator):\n",
    "    el = next(it, None)\n",
    "    if el is None:\n",
    "        return None\n",
    "    return (zrob_drzewo(it), el, zrob_drzewo(it))\n",
    "\n",
    "    "
   ]
  },
  {
   "cell_type": "code",
   "execution_count": 22,
   "metadata": {},
   "outputs": [
    {
     "data": {
      "text/plain": [
       "[0, 1, 2, 3, 4, 5, 6, 7, 8, 9]"
      ]
     },
     "execution_count": 22,
     "metadata": {},
     "output_type": "execute_result"
    }
   ],
   "source": [
    "list(obejdz(zrob_drzewo(iter(range(10))), preorder=True))"
   ]
  }
 ],
 "metadata": {
  "kernelspec": {
   "display_name": "Python 3",
   "language": "python",
   "name": "python3"
  },
  "language_info": {
   "codemirror_mode": {
    "name": "ipython",
    "version": 3
   },
   "file_extension": ".py",
   "mimetype": "text/x-python",
   "name": "python",
   "nbconvert_exporter": "python",
   "pygments_lexer": "ipython3",
   "version": "3.11.5"
  }
 },
 "nbformat": 4,
 "nbformat_minor": 2
}
