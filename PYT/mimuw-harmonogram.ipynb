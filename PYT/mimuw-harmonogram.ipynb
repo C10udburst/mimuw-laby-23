{
 "cells": [
  {
   "cell_type": "markdown",
   "metadata": {},
   "source": [
    "* Należy pobrać z wykorzystaniem pakietów requests, Beautiful Soup wszystkie wydarzenia zamieszczone w harmonogramie na stronie https://www.mimuw.edu.pl/.\n",
    "* Proszę napisać scraper w taki sposób, aby w efekcie działania zapisywał informacje jako lista słowników, których kluczami są tytuł, url do wydarzenia oraz jego data i godzina.\n",
    "* Otrzymane dane proszę zapisać w formacie csv/xlsx - pomocne może być wykorzystanie ramki danych (pakiet pandas) i metody from_dict. \n",
    "* Na koniec - prosze o wyświetlenie pięciu losowych wydarzeń z listy pobranych (tytuł, url, data)."
   ]
  },
  {
   "cell_type": "code",
   "execution_count": 2,
   "metadata": {},
   "outputs": [],
   "source": [
    "from requests import get as http_get\n",
    "from bs4 import BeautifulSoup as bs\n",
    "from urllib.parse import urljoin\n",
    "from datetime import datetime\n",
    "import pandas as pd"
   ]
  },
  {
   "cell_type": "code",
   "execution_count": 3,
   "metadata": {},
   "outputs": [],
   "source": [
    "df = pd.DataFrame(columns=[\"title\", \"link\", \"datetime\"])\n",
    "\n",
    "r = http_get(\"https://www.mimuw.edu.pl/\")\n",
    "body = bs(r.content, \"html.parser\")\n",
    "\n",
    "for li in body.select(\".view-calendar.view-id-calendar .item-list li\"):\n",
    "    dt = li.select_one(\"span[property='dc:date']\").attrs[\"content\"]\n",
    "    dt = datetime.strptime(dt, \"%Y-%m-%dT%H:%M:%S%z\")\n",
    "    a = li.select_one(\".title a\")\n",
    "    title = a.text\n",
    "    link = urljoin(r.url, a.attrs[\"href\"])\n",
    "    df.loc[len(df)] = [title, link, dt]\n"
   ]
  },
  {
   "cell_type": "code",
   "execution_count": 23,
   "metadata": {},
   "outputs": [
    {
     "data": {
      "text/html": [
       "<div>\n",
       "<style scoped>\n",
       "    .dataframe tbody tr th:only-of-type {\n",
       "        vertical-align: middle;\n",
       "    }\n",
       "\n",
       "    .dataframe tbody tr th {\n",
       "        vertical-align: top;\n",
       "    }\n",
       "\n",
       "    .dataframe thead th {\n",
       "        text-align: right;\n",
       "    }\n",
       "</style>\n",
       "<table border=\"1\" class=\"dataframe\">\n",
       "  <thead>\n",
       "    <tr style=\"text-align: right;\">\n",
       "      <th></th>\n",
       "      <th>title</th>\n",
       "      <th>link</th>\n",
       "      <th>datetime</th>\n",
       "    </tr>\n",
       "  </thead>\n",
       "  <tbody>\n",
       "    <tr>\n",
       "      <th>0</th>\n",
       "      <td>TBA</td>\n",
       "      <td>https://www.mimuw.edu.pl/aktualnosci/seminaria...</td>\n",
       "      <td>2024-03-06 17:15:00+01:00</td>\n",
       "    </tr>\n",
       "    <tr>\n",
       "      <th>1</th>\n",
       "      <td>TBA</td>\n",
       "      <td>https://www.mimuw.edu.pl/aktualnosci/seminaria...</td>\n",
       "      <td>2024-02-28 17:15:00+01:00</td>\n",
       "    </tr>\n",
       "    <tr>\n",
       "      <th>2</th>\n",
       "      <td>TBA</td>\n",
       "      <td>https://www.mimuw.edu.pl/aktualnosci/seminaria...</td>\n",
       "      <td>2024-01-24 17:15:00+01:00</td>\n",
       "    </tr>\n",
       "    <tr>\n",
       "      <th>3</th>\n",
       "      <td>Układy dynamiczne oraz pewne problemy analizy ...</td>\n",
       "      <td>https://www.mimuw.edu.pl/aktualnosci/seminaria...</td>\n",
       "      <td>2024-01-18 14:30:00+01:00</td>\n",
       "    </tr>\n",
       "    <tr>\n",
       "      <th>4</th>\n",
       "      <td>Groups of order p^4 as additive groups of loca...</td>\n",
       "      <td>https://www.mimuw.edu.pl/aktualnosci/seminaria...</td>\n",
       "      <td>2024-01-18 12:15:00+01:00</td>\n",
       "    </tr>\n",
       "  </tbody>\n",
       "</table>\n",
       "</div>"
      ],
      "text/plain": [
       "                                               title  \\\n",
       "0                                                TBA   \n",
       "1                                                TBA   \n",
       "2                                                TBA   \n",
       "3  Układy dynamiczne oraz pewne problemy analizy ...   \n",
       "4  Groups of order p^4 as additive groups of loca...   \n",
       "\n",
       "                                                link                  datetime  \n",
       "0  https://www.mimuw.edu.pl/aktualnosci/seminaria... 2024-03-06 17:15:00+01:00  \n",
       "1  https://www.mimuw.edu.pl/aktualnosci/seminaria... 2024-02-28 17:15:00+01:00  \n",
       "2  https://www.mimuw.edu.pl/aktualnosci/seminaria... 2024-01-24 17:15:00+01:00  \n",
       "3  https://www.mimuw.edu.pl/aktualnosci/seminaria... 2024-01-18 14:30:00+01:00  \n",
       "4  https://www.mimuw.edu.pl/aktualnosci/seminaria... 2024-01-18 12:15:00+01:00  "
      ]
     },
     "execution_count": 23,
     "metadata": {},
     "output_type": "execute_result"
    }
   ],
   "source": [
    "df.head()"
   ]
  },
  {
   "cell_type": "code",
   "execution_count": 24,
   "metadata": {},
   "outputs": [],
   "source": [
    "df.to_csv(\"harmonogram-mimuw.csv\", index=False, encoding=\"utf-8\", sep=\";\", date_format=\"%Y-%m-%d %H:%M:%S\")\n",
    "df.to_excel(\"harmonogram-mimuw.xlsx\", index=False, encoding=\"utf-8\", date_format=\"%Y-%m-%d %H:%M:%S\")"
   ]
  },
  {
   "cell_type": "code",
   "execution_count": 25,
   "metadata": {},
   "outputs": [
    {
     "data": {
      "text/html": [
       "<div>\n",
       "<style scoped>\n",
       "    .dataframe tbody tr th:only-of-type {\n",
       "        vertical-align: middle;\n",
       "    }\n",
       "\n",
       "    .dataframe tbody tr th {\n",
       "        vertical-align: top;\n",
       "    }\n",
       "\n",
       "    .dataframe thead th {\n",
       "        text-align: right;\n",
       "    }\n",
       "</style>\n",
       "<table border=\"1\" class=\"dataframe\">\n",
       "  <thead>\n",
       "    <tr style=\"text-align: right;\">\n",
       "      <th></th>\n",
       "      <th>title</th>\n",
       "      <th>link</th>\n",
       "      <th>datetime</th>\n",
       "    </tr>\n",
       "  </thead>\n",
       "  <tbody>\n",
       "    <tr>\n",
       "      <th>22</th>\n",
       "      <td>Funktorialne teorie pola</td>\n",
       "      <td>https://www.mimuw.edu.pl/aktualnosci/seminaria...</td>\n",
       "      <td>2023-12-20 10:30:00+01:00</td>\n",
       "    </tr>\n",
       "    <tr>\n",
       "      <th>10</th>\n",
       "      <td>Strong density in Sobolev spaces to manifolds</td>\n",
       "      <td>https://www.mimuw.edu.pl/aktualnosci/seminaria...</td>\n",
       "      <td>2024-01-11 12:30:00+01:00</td>\n",
       "    </tr>\n",
       "    <tr>\n",
       "      <th>15</th>\n",
       "      <td>Pewne aspekty mechanizmów molekularnych cyklu ...</td>\n",
       "      <td>https://www.mimuw.edu.pl/aktualnosci/seminaria...</td>\n",
       "      <td>2024-01-10 14:15:00+01:00</td>\n",
       "    </tr>\n",
       "    <tr>\n",
       "      <th>17</th>\n",
       "      <td>InfiniStore: Elastic Serverless Cloud Storage</td>\n",
       "      <td>https://www.mimuw.edu.pl/aktualnosci/seminaria...</td>\n",
       "      <td>2023-12-21 12:15:00+01:00</td>\n",
       "    </tr>\n",
       "    <tr>\n",
       "      <th>2</th>\n",
       "      <td>TBA</td>\n",
       "      <td>https://www.mimuw.edu.pl/aktualnosci/seminaria...</td>\n",
       "      <td>2024-01-24 17:15:00+01:00</td>\n",
       "    </tr>\n",
       "  </tbody>\n",
       "</table>\n",
       "</div>"
      ],
      "text/plain": [
       "                                                title  \\\n",
       "22                           Funktorialne teorie pola   \n",
       "10      Strong density in Sobolev spaces to manifolds   \n",
       "15  Pewne aspekty mechanizmów molekularnych cyklu ...   \n",
       "17      InfiniStore: Elastic Serverless Cloud Storage   \n",
       "2                                                 TBA   \n",
       "\n",
       "                                                 link  \\\n",
       "22  https://www.mimuw.edu.pl/aktualnosci/seminaria...   \n",
       "10  https://www.mimuw.edu.pl/aktualnosci/seminaria...   \n",
       "15  https://www.mimuw.edu.pl/aktualnosci/seminaria...   \n",
       "17  https://www.mimuw.edu.pl/aktualnosci/seminaria...   \n",
       "2   https://www.mimuw.edu.pl/aktualnosci/seminaria...   \n",
       "\n",
       "                    datetime  \n",
       "22 2023-12-20 10:30:00+01:00  \n",
       "10 2024-01-11 12:30:00+01:00  \n",
       "15 2024-01-10 14:15:00+01:00  \n",
       "17 2023-12-21 12:15:00+01:00  \n",
       "2  2024-01-24 17:15:00+01:00  "
      ]
     },
     "execution_count": 25,
     "metadata": {},
     "output_type": "execute_result"
    }
   ],
   "source": [
    "df.sample(5)"
   ]
  },
  {
   "cell_type": "code",
   "execution_count": null,
   "metadata": {},
   "outputs": [],
   "source": [
    "try:\n",
    "    from google.colab import files\n",
    "    files.download(\"harmonogram-mimuw.csv\")\n",
    "    files.download(\"harmonogram-mimuw.xlsx\")\n",
    "except ImportError:\n",
    "    pass"
   ]
  }
 ],
 "metadata": {
  "kernelspec": {
   "display_name": "Python 3",
   "language": "python",
   "name": "python3"
  },
  "language_info": {
   "codemirror_mode": {
    "name": "ipython",
    "version": 3
   },
   "file_extension": ".py",
   "mimetype": "text/x-python",
   "name": "python",
   "nbconvert_exporter": "python",
   "pygments_lexer": "ipython3",
   "version": "3.11.5"
  }
 },
 "nbformat": 4,
 "nbformat_minor": 2
}
