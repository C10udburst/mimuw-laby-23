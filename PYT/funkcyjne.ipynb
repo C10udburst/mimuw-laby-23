{
 "cells": [
  {
   "cell_type": "markdown",
   "metadata": {},
   "source": [
    "2. iterator (a,b) -> iterator (a,b,a**b) za pomocą funkcji z modułów itertools i operator;\n",
    "3. dekorator służacy do wypisywania parametrów wywołania funkcji i jej wyniku;\n",
    "4. konwersja iterator -> drzewo i obejście drzewa by stworzyć iterator."
   ]
  },
  {
   "cell_type": "code",
   "execution_count": 3,
   "metadata": {},
   "outputs": [],
   "source": [
    "from itertools import *\n",
    "from operator import *\n",
    "from typing import Iterator"
   ]
  },
  {
   "cell_type": "code",
   "execution_count": 20,
   "metadata": {},
   "outputs": [],
   "source": [
    "# iterator (a,b) -> iterator (a,b,a**b) za pomocą funkcji z modułów itertools i operator;\n",
    "\n",
    "def transform(pair: Iterator[tuple]) -> Iterator[tuple]:\n",
    "    return zip(pair,starmap(pow, pair))"
   ]
  },
  {
   "cell_type": "code",
   "execution_count": 21,
   "metadata": {},
   "outputs": [
    {
     "data": {
      "text/plain": [
       "[((1, 1), 4),\n",
       " ((3, 3), 256),\n",
       " ((5, 5), 46656),\n",
       " ((7, 7), 16777216),\n",
       " ((9, 9), 10000000000)]"
      ]
     },
     "execution_count": 21,
     "metadata": {},
     "output_type": "execute_result"
    }
   ],
   "source": [
    "list(transform(zip(range(1, 11), range(1, 11))))"
   ]
  },
  {
   "cell_type": "code",
   "execution_count": null,
   "metadata": {},
   "outputs": [],
   "source": []
  }
 ],
 "metadata": {
  "kernelspec": {
   "display_name": "Python 3",
   "language": "python",
   "name": "python3"
  },
  "language_info": {
   "codemirror_mode": {
    "name": "ipython",
    "version": 3
   },
   "file_extension": ".py",
   "mimetype": "text/x-python",
   "name": "python",
   "nbconvert_exporter": "python",
   "pygments_lexer": "ipython3",
   "version": "3.11.5"
  }
 },
 "nbformat": 4,
 "nbformat_minor": 2
}
