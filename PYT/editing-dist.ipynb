{
 "cells": [
  {
   "cell_type": "markdown",
   "metadata": {},
   "source": [
    "mamy liste slow, szukamy jak najszybciej\n",
    "\n",
    "- dodanie litery: waga 2\n",
    "- zamiana litery na inną: waga 1\n",
    "- usunięcie litery: waga 2"
   ]
  },
  {
   "cell_type": "code",
   "execution_count": null,
   "metadata": {},
   "outputs": [],
   "source": [
    "def editing_distance(s1: str, s2: str) -> int:\n",
    "    l1, l2 = len(s1), len(s2)\n",
    "    \n",
    "    matrix = [[0]*(l2 + 1) for _ in range(l1 + 1)]\n",
    "    \n",
    "    for i in range(l1 + 1):\n",
    "        matrix[i][0] = i*2\n",
    "    \n",
    "    for j in range(l2 + 1):\n",
    "        matrix[0][j] = j*2\n",
    "    \n",
    "    for i in range(1, l1 + 1):\n",
    "        for j in range(1, l2 + 1):\n",
    "            if s1[i - 1] == s2[j - 1]:\n",
    "                matrix[i][j] = matrix[i - 1][j - 1]\n",
    "            else:\n",
    "                ins = 2 + matrix[i][j - 1]\n",
    "                del_ = 2 + matrix[i - 1][j]\n",
    "                repl = 1 + matrix[i - 1][j - 1]\n",
    "                \n",
    "                matrix[i][j] = min(ins, del_, repl)\n",
    "    \n",
    "    return matrix[l1][l2]\n",
    "        "
   ]
  },
  {
   "cell_type": "code",
   "execution_count": null,
   "metadata": {},
   "outputs": [],
   "source": [
    "from ipywidgets.widgets import Text, Button\n",
    "from IPython.display import display\n",
    "\n",
    "s1 = Text(description='string 1')\n",
    "s2 = Text(description='string 2')\n",
    "button = Button(description='Oblicz')\n",
    "button.on_click(lambda _: print(editing_distance(s1.value, s2.value)))\n",
    "\n",
    "display(s1, s2, button)"
   ]
  }
 ],
 "metadata": {
  "kernelspec": {
   "display_name": "Python 3",
   "language": "python",
   "name": "python3"
  },
  "language_info": {
   "codemirror_mode": {
    "name": "ipython",
    "version": 3
   },
   "file_extension": ".py",
   "mimetype": "text/x-python",
   "name": "python",
   "nbconvert_exporter": "python",
   "pygments_lexer": "ipython3",
   "version": "3.11.5"
  }
 },
 "nbformat": 4,
 "nbformat_minor": 2
}
