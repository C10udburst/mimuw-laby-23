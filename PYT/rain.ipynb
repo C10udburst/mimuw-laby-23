{
 "cells": [
  {
   "cell_type": "markdown",
   "metadata": {},
   "source": [
    "Napisac funkcje, ktora bierze liste wysokosci, a zwraca sumę ilości wody i ilosc wody w poszczególnych miejscach którą możemy zatrzymać"
   ]
  },
  {
   "cell_type": "code",
   "execution_count": 2,
   "metadata": {},
   "outputs": [],
   "source": [
    "from typing import List"
   ]
  },
  {
   "cell_type": "code",
   "execution_count": 3,
   "metadata": {},
   "outputs": [],
   "source": [
    "# trapping rain water\n",
    "def calc(arr: List[int]) -> (int, List[int]):\n",
    "    if len(arr) < 3: # jeśli mniej niż 3 elementy, to nie da się zatrzymać wody\n",
    "        return 0, [0] * len(arr)\n",
    "    \n",
    "    water = [0] * len(arr) # lista zatrzymanej wody\n",
    "    \n",
    "    for i in range(1, len(arr) - 1):\n",
    "        pass\n",
    "    \n",
    "    \n",
    "    return sum(water), water\n"
   ]
  },
  {
   "cell_type": "code",
   "execution_count": null,
   "metadata": {},
   "outputs": [],
   "source": []
  }
 ],
 "metadata": {
  "kernelspec": {
   "display_name": "Python 3",
   "language": "python",
   "name": "python3"
  },
  "language_info": {
   "codemirror_mode": {
    "name": "ipython",
    "version": 3
   },
   "file_extension": ".py",
   "mimetype": "text/x-python",
   "name": "python",
   "nbconvert_exporter": "python",
   "pygments_lexer": "ipython3",
   "version": "3.11.5"
  }
 },
 "nbformat": 4,
 "nbformat_minor": 2
}
