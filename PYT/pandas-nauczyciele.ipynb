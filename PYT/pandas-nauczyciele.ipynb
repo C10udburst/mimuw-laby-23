{
 "cells": [
  {
   "cell_type": "code",
   "execution_count": null,
   "metadata": {},
   "outputs": [],
   "source": [
    "import pandas as pd"
   ]
  },
  {
   "cell_type": "code",
   "execution_count": null,
   "metadata": {},
   "outputs": [],
   "source": [
    "df = pd.read_csv(\"https://github.com/datablist/sample-csv-files/raw/main/files/people/people-2000000.zip\")"
   ]
  },
  {
   "cell_type": "code",
   "execution_count": null,
   "metadata": {},
   "outputs": [],
   "source": [
    "[x for x in df['Job Title'].unique() if 'teach' in x.lower()]"
   ]
  },
  {
   "cell_type": "code",
   "execution_count": null,
   "metadata": {},
   "outputs": [],
   "source": [
    "df.head()"
   ]
  },
  {
   "cell_type": "code",
   "execution_count": null,
   "metadata": {},
   "outputs": [],
   "source": [
    "%%time\n",
    "\n",
    "## dodaj kolumne z rokiem urodzenia wyliczonym z daty urodzenia\n",
    "df['Year of Birth'] = df['Date of birth'].str.split('-').str[0].astype(int)\n",
    "\n",
    "## dodaj kolumne z pytaniem czy jest nauczycielem (True/False)\n",
    "df['Is Teacher'] = df['Job Title'].str.contains('teacher', case=False)"
   ]
  },
  {
   "cell_type": "code",
   "execution_count": null,
   "metadata": {},
   "outputs": [],
   "source": [
    "df.head()"
   ]
  },
  {
   "cell_type": "code",
   "execution_count": null,
   "metadata": {},
   "outputs": [],
   "source": [
    "%%time\n",
    "\n",
    "## napisać w pandasie zapytanie ktore znajduje wszystkich mężczyzn urodzonych przed rokiem 2010 ktorzy są nauczycielami. ma byc jak najszybciej \n",
    "\n",
    "df[df['Is Teacher'] & (df['Year of Birth'] < 2010) & (df['Sex'] == 'Male')]"
   ]
  },
  {
   "cell_type": "code",
   "execution_count": null,
   "metadata": {},
   "outputs": [],
   "source": []
  }
 ],
 "metadata": {
  "kernelspec": {
   "display_name": "Python 3",
   "language": "python",
   "name": "python3"
  },
  "language_info": {
   "codemirror_mode": {
    "name": "ipython",
    "version": 3
   },
   "file_extension": ".py",
   "mimetype": "text/x-python",
   "name": "python",
   "nbconvert_exporter": "python",
   "pygments_lexer": "ipython3",
   "version": "3.11.5"
  }
 },
 "nbformat": 4,
 "nbformat_minor": 2
}
