{
 "cells": [
  {
   "cell_type": "markdown",
   "metadata": {},
   "source": [
    "Napisac funkcje, ktora bierze liste wysokosci, a zwraca sumę ilości wody i ilosc wody w poszczególnych miejscach którą możemy zatrzymać"
   ]
  },
  {
   "cell_type": "code",
   "execution_count": null,
   "metadata": {},
   "outputs": [],
   "source": [
    "from typing import List"
   ]
  },
  {
   "cell_type": "code",
   "execution_count": null,
   "metadata": {},
   "outputs": [],
   "source": [
    "# trapping rain water\n",
    "def calc(arr: List[int]) -> (int, List[int]):\n",
    "    if len(arr) < 3: # jeśli mniej niż 3 elementy, to nie da się zatrzymać wody\n",
    "        return 0, [0] * len(arr)\n",
    "    \n",
    "    max_v = max(arr) # indeks najwyższego elementu\n",
    "    \n",
    "    water = [0] * len(arr) # lista zatrzymanej wody\n",
    "    \n",
    "    left = arr[0] # najwyższy element z lewej\n",
    "    \n",
    "    for i, v in enumerate(arr):\n",
    "        if v == max_v:\n",
    "            break\n",
    "        if v >= left:\n",
    "            left = v\n",
    "        else:\n",
    "            water[i] = left - v\n",
    "    \n",
    "    right = arr[-1] # najwyższy element z prawej\n",
    "    for i, v in reversed(list(enumerate(arr))):\n",
    "        if v == max_v:\n",
    "            break\n",
    "        if v >= right:\n",
    "            right = v\n",
    "        else:\n",
    "            water[i] = min(water[i], right - v)\n",
    "    \n",
    "    water[0] = water[-1] = 0 # pierwszy i ostatni element nie mogą zatrzymać wody\n",
    "    \n",
    "    return sum(water), water\n"
   ]
  },
  {
   "cell_type": "code",
   "execution_count": null,
   "metadata": {},
   "outputs": [],
   "source": [
    "from ipywidgets.widgets import BoundedIntText, Button, VBox\n",
    "from IPython.display import display, clear_output\n",
    "\n",
    "list_size = BoundedIntText(\n",
    "    value=3,\n",
    "    min=0\n",
    ")\n",
    "\n",
    "def onbtn(_):\n",
    "    # wygeneruj listę BoungedIntText o rozmiarze list_size.value\n",
    "    container = VBox([BoundedIntText(min=0) for _ in range(list_size.value)])\n",
    "    \n",
    "    # przycisk do obliczenia\n",
    "    btn2 = Button(description=\"Oblicz\")\n",
    "    btn2.on_click(lambda _: print(calc([x.value for x in container.children])))\n",
    "    \n",
    "    clear_output()\n",
    "    display(list_size, btn, container, btn2)\n",
    "    \n",
    "btn = Button(description=\"Utwórz listę\")\n",
    "btn.on_click(onbtn)\n",
    "display(list_size, btn)"
   ]
  },
  {
   "cell_type": "code",
   "execution_count": null,
   "metadata": {},
   "outputs": [],
   "source": []
  }
 ],
 "metadata": {
  "kernelspec": {
   "display_name": "Python 3",
   "language": "python",
   "name": "python3"
  },
  "language_info": {
   "codemirror_mode": {
    "name": "ipython",
    "version": 3
   },
   "file_extension": ".py",
   "mimetype": "text/x-python",
   "name": "python",
   "nbconvert_exporter": "python",
   "pygments_lexer": "ipython3",
   "version": "3.11.5"
  }
 },
 "nbformat": 4,
 "nbformat_minor": 2
}
