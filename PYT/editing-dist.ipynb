{
 "cells": [
  {
   "cell_type": "markdown",
   "metadata": {},
   "source": [
    "mamy liste slow, szukamy jak najszybciej\n",
    "\n",
    "- dodanie litery: waga 2\n",
    "- zamiana litery na inną: waga 1\n",
    "- usunięcie litery: waga 2"
   ]
  },
  {
   "cell_type": "code",
   "execution_count": null,
   "metadata": {},
   "outputs": [],
   "source": [
    "# adding letter - 2\n",
    "# removing letter - 2\n",
    "# replacing letter - 1\n",
    "def editing_distance(s1: str, s2: str) -> int:\n",
    "    l1, l2 = len(s1), len(s2)\n",
    "    \n",
    "    # create a matrix of size (l1+1) * (l2+1)\n",
    "    # matrix[i][j] represents the minimum number of operations required to convert s1[:i] to s2[:j]\n",
    "    matrix = [[0 for _ in range(l2+1)] for _ in range(l1+1)]\n",
    "    \n",
    "    # initialize the first row and column\n",
    "    for i in range(l1+1):\n",
    "        matrix[i][0] = i\n",
    "    \n",
    "    for j in range(l2+1):\n",
    "        matrix[0][j] = j\n",
    "        \n",
    "    # fill the matrix\n",
    "    for i in range(1, l1+1):\n",
    "        for j in range(1, l2+1):\n",
    "            # if the last letter is the same\n",
    "            if s1[i-1] == s2[j-1]:\n",
    "                matrix[i][j] = matrix[i-1][j-1]\n",
    "            else:\n",
    "                # if the last letter is not the same\n",
    "                # add, remove, replace\n",
    "                matrix[i][j] = 1 + min(matrix[i-1][j], matrix[i][j-1], matrix[i-1][j-1])\n",
    "    \n",
    "    return matrix[l1][l2] + (len(s1) != len(s2))\n",
    "        "
   ]
  },
  {
   "cell_type": "code",
   "execution_count": null,
   "metadata": {},
   "outputs": [],
   "source": [
    "from ipywidgets.widgets import Text, Button\n",
    "from IPython.display import display\n",
    "\n",
    "s1 = Text(description='string 1')\n",
    "s2 = Text(description='string 2')\n",
    "button = Button(description='Oblicz')\n",
    "button.on_click(lambda _: print(editing_distance(s1.value, s2.value)))\n",
    "\n",
    "display(s1, s2, button)"
   ]
  },
  {
   "cell_type": "code",
   "execution_count": null,
   "metadata": {},
   "outputs": [],
   "source": []
  },
  {
   "cell_type": "code",
   "execution_count": null,
   "metadata": {},
   "outputs": [],
   "source": []
  }
 ],
 "metadata": {
  "kernelspec": {
   "display_name": "Python 3",
   "language": "python",
   "name": "python3"
  },
  "language_info": {
   "codemirror_mode": {
    "name": "ipython",
    "version": 3
   },
   "file_extension": ".py",
   "mimetype": "text/x-python",
   "name": "python",
   "nbconvert_exporter": "python",
   "pygments_lexer": "ipython3",
   "version": "3.11.5"
  }
 },
 "nbformat": 4,
 "nbformat_minor": 2
}
