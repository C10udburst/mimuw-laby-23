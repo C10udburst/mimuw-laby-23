{
 "cells": [
  {
   "cell_type": "code",
   "execution_count": 20,
   "metadata": {},
   "outputs": [],
   "source": [
    "from dataclasses import dataclass, field\n",
    "from typing import Dict, Set"
   ]
  },
  {
   "cell_type": "code",
   "execution_count": 26,
   "metadata": {},
   "outputs": [],
   "source": [
    "@dataclass(init=True, repr=True)\n",
    "class AnagramDatabase:\n",
    "    _words: Dict[str, Set] = field(default_factory=dict)\n",
    "    _counts: Dict[str, int] = field(default_factory=dict)\n",
    "    \n",
    "    def _get_key(self, word: str) -> str:\n",
    "        if not word.isalpha():\n",
    "            raise ValueError(f\"Word '{word}' contains non-alphabetic characters\")\n",
    "        word = \"\".join(sorted(word.lower()))\n",
    "        return word\n",
    "    \n",
    "    def add(self, word: str) -> None:\n",
    "        key = self._get_key(word)\n",
    "        if key not in self._words:\n",
    "            self._words[key] = set()\n",
    "            self._counts[key] = 0\n",
    "        if word not in self._words[key]:\n",
    "            self._words[key].add(word)\n",
    "            self._counts[key] += 1\n",
    "        \n",
    "    def remove(self, word: str) -> None:\n",
    "        key = AnagramDatabase._get_key(word)\n",
    "        if key not in self._words:\n",
    "            raise KeyError(f\"Word '{word}' not found\")\n",
    "        if word not in self._words[key]:\n",
    "            raise KeyError(f\"Word '{word}' not found\")\n",
    "        self._words[key].remove(word)\n",
    "        self._counts[key] -= 1\n",
    "        \n",
    "    def anagrams(self, word: str) -> Set[str]:\n",
    "        key = self._get_key(word)\n",
    "        if key not in self._words:\n",
    "            return []\n",
    "        return self._words[key]\n",
    "    \n",
    "    def count(self, word: str) -> int:\n",
    "        key = self._get_key(word)\n",
    "        if key not in self._counts:\n",
    "            return 0\n",
    "        return self._counts[key]"
   ]
  },
  {
   "cell_type": "code",
   "execution_count": 27,
   "metadata": {},
   "outputs": [
    {
     "data": {
      "application/vnd.jupyter.widget-view+json": {
       "model_id": "93f91adde89547dd8ffb79b5be9765d4",
       "version_major": 2,
       "version_minor": 0
      },
      "text/plain": [
       "Text(value='', description='Word')"
      ]
     },
     "metadata": {},
     "output_type": "display_data"
    },
    {
     "data": {
      "application/vnd.jupyter.widget-view+json": {
       "model_id": "c56ddbd224414721bcdff5ebabdb2f22",
       "version_major": 2,
       "version_minor": 0
      },
      "text/plain": [
       "Button(description='Add', style=ButtonStyle())"
      ]
     },
     "metadata": {},
     "output_type": "display_data"
    },
    {
     "data": {
      "application/vnd.jupyter.widget-view+json": {
       "model_id": "0c97267f3e674a47ab1fe3bcc016e41e",
       "version_major": 2,
       "version_minor": 0
      },
      "text/plain": [
       "Button(description='Remove', style=ButtonStyle())"
      ]
     },
     "metadata": {},
     "output_type": "display_data"
    },
    {
     "data": {
      "application/vnd.jupyter.widget-view+json": {
       "model_id": "3bb467328235486689f66a65fb5478c2",
       "version_major": 2,
       "version_minor": 0
      },
      "text/plain": [
       "Button(description='Anagrams', style=ButtonStyle())"
      ]
     },
     "metadata": {},
     "output_type": "display_data"
    },
    {
     "data": {
      "application/vnd.jupyter.widget-view+json": {
       "model_id": "edc63795569044d5865b65a40b947606",
       "version_major": 2,
       "version_minor": 0
      },
      "text/plain": [
       "Button(description='Counts', style=ButtonStyle())"
      ]
     },
     "metadata": {},
     "output_type": "display_data"
    },
    {
     "name": "stdout",
     "output_type": "stream",
     "text": [
      "AnagramDatabase(_words={'abc': {'abc'}}, _counts={'abc': 1})\n",
      "1\n",
      "AnagramDatabase(_words={'abc': {'acb', 'abc'}}, _counts={'abc': 2})\n",
      "2\n",
      "2\n",
      "2\n",
      "{'acb', 'abc'}\n"
     ]
    }
   ],
   "source": [
    "from ipywidgets.widgets import Text, Button\n",
    "from IPython.display import display\n",
    "\n",
    "db = AnagramDatabase()\n",
    "word_input = Text(description=\"Word\")\n",
    "add_button = Button(description=\"Add\")\n",
    "remove_button = Button(description=\"Remove\")\n",
    "anagrams_button = Button(description=\"Anagrams\")\n",
    "counts_button = Button(description=\"Counts\")\n",
    "\n",
    "def add_word(_):\n",
    "    db.add(word_input.value)\n",
    "    print(db)\n",
    "    \n",
    "def remove_word(_):\n",
    "    db.remove(word_input.value)\n",
    "    print(db)\n",
    "    \n",
    "def show_anagrams(_):\n",
    "    print(db.anagrams(word_input.value))\n",
    "    \n",
    "def show_counts(_):\n",
    "    print(db.count(word_input.value))\n",
    "    \n",
    "add_button.on_click(add_word)\n",
    "remove_button.on_click(remove_word)\n",
    "anagrams_button.on_click(show_anagrams)\n",
    "counts_button.on_click(show_counts)\n",
    "\n",
    "display(word_input, add_button, remove_button, anagrams_button, counts_button)\n"
   ]
  },
  {
   "cell_type": "code",
   "execution_count": null,
   "metadata": {},
   "outputs": [],
   "source": []
  }
 ],
 "metadata": {
  "kernelspec": {
   "display_name": "Python 3",
   "language": "python",
   "name": "python3"
  },
  "language_info": {
   "codemirror_mode": {
    "name": "ipython",
    "version": 3
   },
   "file_extension": ".py",
   "mimetype": "text/x-python",
   "name": "python",
   "nbconvert_exporter": "python",
   "pygments_lexer": "ipython3",
   "version": "3.11.5"
  }
 },
 "nbformat": 4,
 "nbformat_minor": 2
}
